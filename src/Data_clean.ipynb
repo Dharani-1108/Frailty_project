{
  "nbformat": 4,
  "nbformat_minor": 0,
  "metadata": {
    "colab": {
      "provenance": [],
      "authorship_tag": "ABX9TyMpzLhIt/KVzCcF1pztT9ds",
      "include_colab_link": true
    },
    "kernelspec": {
      "name": "python3",
      "display_name": "Python 3"
    },
    "language_info": {
      "name": "python"
    }
  },
  "cells": [
    {
      "cell_type": "markdown",
      "metadata": {
        "id": "view-in-github",
        "colab_type": "text"
      },
      "source": [
        "<a href=\"https://colab.research.google.com/github/Dharani-1108/Frailty_project/blob/main/src/Data_clean.ipynb\" target=\"_parent\"><img src=\"https://colab.research.google.com/assets/colab-badge.svg\" alt=\"Open In Colab\"/></a>"
      ]
    },
    {
      "cell_type": "code",
      "execution_count": null,
      "metadata": {
        "colab": {
          "base_uri": "https://localhost:8080/"
        },
        "id": "EpM1t60wjoTB",
        "outputId": "3c6ee037-ae80-4955-8caa-0be65fb79ca6"
      },
      "outputs": [
        {
          "output_type": "stream",
          "name": "stdout",
          "text": [
            "Drive already mounted at /content/drive; to attempt to forcibly remount, call drive.mount(\"/content/drive\", force_remount=True).\n"
          ]
        }
      ],
      "source": [
        "import pandas as pd\n",
        "from google.colab import drive\n",
        "drive.mount('/content/drive')\n",
        "\n",
        "raw_data=pd.read_csv(\"/content/drive/My Drive/Frailty_data.csv\")"
      ]
    },
    {
      "cell_type": "code",
      "source": [
        "data_frame_obj = raw_data.select_dtypes(['object'])\n",
        "#strip the trailing spaces\n",
        "raw_data[data_frame_obj.columns] = data_frame_obj.apply(lambda x: x.str.strip())\n",
        "raw_data.columns = raw_data.columns.str.strip()"
      ],
      "metadata": {
        "id": "Neo2iRGZsehU"
      },
      "execution_count": 8,
      "outputs": []
    },
    {
      "cell_type": "code",
      "source": [
        "#rename the file\n",
        "raw_data.rename(columns = {'Height (Inches)':'height',\n",
        "                       'Weight (Pounds)':'weight',\n",
        "                       'Age':'age',\n",
        "                        'Grip strength':'grip_strength',\n",
        "                         'Frailty':'frailty'}, inplace = True)\n",
        "raw_data.frailty=raw_data.frailty.map(dict(Y=1, N=0))"
      ],
      "metadata": {
        "id": "TS0lx336slrb"
      },
      "execution_count": 9,
      "outputs": []
    },
    {
      "cell_type": "code",
      "source": [
        "#save the clean file to data_clean\n",
        "clean_dat=raw_data.to_csv('/content/drive/My Drive/clean_frailty_data.csv')"
      ],
      "metadata": {
        "id": "DfXCmW27sqrs"
      },
      "execution_count": 10,
      "outputs": []
    }
  ]
}