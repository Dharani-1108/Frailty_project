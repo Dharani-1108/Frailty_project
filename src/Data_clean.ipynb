{
  "nbformat": 4,
  "nbformat_minor": 0,
  "metadata": {
    "colab": {
      "provenance": [],
      "authorship_tag": "ABX9TyPctY0YN0yd1/l5Qqrz4Oxv",
      "include_colab_link": true
    },
    "kernelspec": {
      "name": "python3",
      "display_name": "Python 3"
    },
    "language_info": {
      "name": "python"
    }
  },
  "cells": [
    {
      "cell_type": "markdown",
      "metadata": {
        "id": "view-in-github",
        "colab_type": "text"
      },
      "source": [
        "<a href=\"https://colab.research.google.com/github/Dharani-1108/Frailty_project/blob/main/src/Data_clean.ipynb\" target=\"_parent\"><img src=\"https://colab.research.google.com/assets/colab-badge.svg\" alt=\"Open In Colab\"/></a>"
      ]
    },
    {
      "cell_type": "code",
      "execution_count": null,
      "metadata": {
        "colab": {
          "base_uri": "https://localhost:8080/"
        },
        "id": "EpM1t60wjoTB",
        "outputId": "3c6ee037-ae80-4955-8caa-0be65fb79ca6"
      },
      "outputs": [
        {
          "output_type": "stream",
          "name": "stdout",
          "text": [
            "Drive already mounted at /content/drive; to attempt to forcibly remount, call drive.mount(\"/content/drive\", force_remount=True).\n"
          ]
        }
      ],
      "source": [
        "import pandas as pd\n",
        "from google.colab import drive\n",
        "drive.mount('/content/drive')\n",
        "\n",
        "raw_data=pd.read_csv(\"/content/drive/My Drive/Frailty_data.csv\")"
      ]
    },
    {
      "cell_type": "code",
      "source": [
        "#Stage 2: Data Wrangling\n",
        "clean_data=raw_data.dropna()\n",
        "\n",
        "print(clean_data.head())\n",
        "\n",
        "#save the clean file to data_clean\n",
        "clean_data.to_csv('/content/drive/My Drive/clean_frailty_data.csv')"
      ],
      "metadata": {
        "colab": {
          "base_uri": "https://localhost:8080/"
        },
        "id": "O1I3qWY6j2z4",
        "outputId": "3677b035-650c-4ce7-8df5-59b42eee3154"
      },
      "execution_count": null,
      "outputs": [
        {
          "output_type": "stream",
          "name": "stdout",
          "text": [
            "  Height  Weight  Age  Grip strength  Frailty \n",
            "0   65.8     112   30             30        N \n",
            "1   71.5     136   19             31        N \n",
            "2   69.4     153   45             29        N \n",
            "3   68.2     142   22             28        Y \n",
            "4   67.8     144   29             24        Y \n"
          ]
        }
      ]
    }
  ]
}